{
 "cells": [
  {
   "cell_type": "markdown",
   "metadata": {},
   "source": [
    "# Strategy Testing and Optimization\n",
    "\n",
    "This notebook demonstrates how to test and optimize trading strategies using the BTB framework."
   ]
  },
  {
   "cell_type": "code",
   "execution_count": null,
   "metadata": {},
   "outputs": [],
   "source": [
    "import os\n",
    "import sys\n",
    "from datetime import datetime\n",
    "\n",
    "import matplotlib.pyplot as plt\n",
    "import numpy as np\n",
    "import pandas as pd\n",
    "import seaborn as sns\n",
    "import torch\n",
    "\n",
    "# Add project root to path for imports\n",
    "sys.path.append(os.path.abspath(\"..\"))\n",
    "\n",
    "from btb.backtest.engine import Backtester\n",
    "from btb.backtest.metrics import calculate_metrics\n",
    "from btb.backtest.monte_carlo import MonteCarloSimulation\n",
    "from btb.backtest.walk_forward import WalkForwardAnalysis\n",
    "from btb.data.loader import DataLoader\n",
    "from btb.strategies.factory import create_strategy\n",
    "from btb.utils.config import load_config\n"
   ]
  },
  {
   "cell_type": "markdown",
   "metadata": {},
   "source": [
    "## 1. Load Configuration"
   ]
  },
  {
   "cell_type": "code",
   "execution_count": null,
   "metadata": {},
   "outputs": [],
   "source": [
    "# Load backtest configuration\n",
    "config = load_config(\"../config/backtest_config.yaml\")\n",
    "print(\n",
    "    f\"Backtest configuration loaded for {config['backtest']['symbols'][0]} with {config['backtest']['timeframes'][0]} timeframe\"\n",
    ")"
   ]
  },
  {
   "cell_type": "markdown",
   "metadata": {},
   "source": [
    "## 2. Load Historical Data"
   ]
  },
  {
   "cell_type": "code",
   "execution_count": null,
   "metadata": {},
   "outputs": [],
   "source": [
    "# Initialize data loader\n",
    "data_config = {\"use_dummy\": True}\n",
    "data_loader = DataLoader(data_config)\n",
    "\n",
    "# Load historical market data\n",
    "start_date = config[\"backtest\"][\"start_date\"]\n",
    "end_date = config[\"backtest\"][\"end_date\"]\n",
    "symbols = config[\"backtest\"][\"symbols\"]\n",
    "timeframes = config[\"backtest\"][\"timeframes\"]\n",
    "data = data_loader.load_data(symbols=symbols, timeframes=timeframes, start_date=start_date, end_date=end_date)\n",
    "\n",
    "# Get the primary symbol and timeframe\n",
    "symbol = symbols[0]\n",
    "timeframe = timeframes[0]\n",
    "df = data[f\"{symbol}_{timeframe}\"]\n",
    "\n",
    "# Display data summary\n",
    "print(f\"Loaded {len(df)} data points from {df.index.min()} to {df.index.max()}\")\n",
    "df.head()"
   ]
  },
  {
   "cell_type": "markdown",
   "metadata": {},
   "source": [
    "## 3. Initialize Strategy"
   ]
  },
  {
   "cell_type": "code",
   "execution_count": null,
   "metadata": {},
   "outputs": [],
   "source": [
    "# Load models\n",
    "models_dir = \"../models/\"\n",
    "device = torch.device(\"cuda\" if torch.cuda.is_available() else \"cpu\")\n",
    "\n",
    "# Initialize strategy from factory\n",
    "strategy_type = config[\"backtest\"][\"strategy\"]\n",
    "strategy_params = config.get(\"strategy_params\", {})\n",
    "\n",
    "# Initialize strategy\n",
    "strategy = create_strategy(strategy_type, strategy_params)\n",
    "\n",
    "print(f\"Initialized {strategy_type} strategy\")"
   ]
  },
  {
   "cell_type": "markdown",
   "metadata": {},
   "source": [
    "## 4. Run Basic Backtest"
   ]
  },
  {
   "cell_type": "code",
   "execution_count": null,
   "metadata": {},
   "outputs": [],
   "source": [
    "# Create a full config for the backtester\n",
    "backtester_config = {\n",
    "    \"backtest\": {\n",
    "        \"initial_capital\": config[\"backtest\"][\"initial_capital\"],\n",
    "        \"commission\": config[\"backtest\"].get(\"commission\", 0.0007),\n",
    "        \"slippage\": config[\"backtest\"].get(\"slippage\", 0.0001),\n",
    "        \"strategy\": strategy_type,\n",
    "        \"symbols\": symbols,\n",
    "        \"timeframes\": timeframes,\n",
    "        \"start_date\": start_date,\n",
    "        \"end_date\": end_date,\n",
    "    },\n",
    "    \"strategy_params\": strategy_params,\n",
    "}\n",
    "\n",
    "# Initialize backtester\n",
    "backtester = Backtester(backtester_config)\n",
    "\n",
    "# Run backtest\n",
    "results = backtester.run()\n",
    "\n",
    "# Convert results to DataFrame for easier analysis\n",
    "equity_curve = results[\"equity_curve\"]\n",
    "trades = results[\"trades\"]\n",
    "\n",
    "# Create a DataFrame with the equity curve\n",
    "results_df = pd.DataFrame(index=pd.date_range(start=start_date, end=end_date, freq=\"D\"))\n",
    "results_df[\"equity\"] = pd.Series(equity_curve)\n",
    "results_df = results_df.dropna()\n",
    "\n",
    "# Calculate drawdown\n",
    "peak = results_df[\"equity\"].cummax()\n",
    "results_df[\"drawdown\"] = (results_df[\"equity\"] - peak) / peak\n",
    "\n",
    "# Display first few rows of results\n",
    "results_df.head()"
   ]
  },
  {
   "cell_type": "markdown",
   "metadata": {},
   "source": [
    "## 5. Analyze Backtest Performance"
   ]
  },
  {
   "cell_type": "code",
   "execution_count": null,
   "metadata": {},
   "outputs": [],
   "source": [
    "# Calculate performance metrics\n",
    "metrics = calculate_metrics(results)\n",
    "\n",
    "# Display metrics\n",
    "print(\"Performance Metrics:\")\n",
    "print(f\"Total Return: {metrics['total_return']:.2f}%\")\n",
    "print(f\"Annualized Return: {metrics['annualized_return']:.2f}%\")\n",
    "print(f\"Sharpe Ratio: {metrics['sharpe_ratio']:.2f}\")\n",
    "print(f\"Sortino Ratio: {metrics['sortino_ratio']:.2f}\")\n",
    "print(f\"Max Drawdown: {metrics['max_drawdown']:.2f}%\")\n",
    "print(f\"Calmar Ratio: {metrics['calmar_ratio']:.2f}\")\n",
    "print(f\"Win Rate: {metrics['win_rate']:.2f}%\")\n",
    "print(f\"Profit Factor: {metrics['profit_factor']:.2f}\")\n",
    "print(f\"Recovery Factor: {metrics['recovery_factor']:.2f}\")\n",
    "print(f\"Risk of Ruin: {metrics['risk_of_ruin']:.4f}\")"
   ]
  },
  {
   "cell_type": "code",
   "execution_count": null,
   "metadata": {},
   "outputs": [],
   "source": [
    "# Plot equity curve\n",
    "plt.figure(figsize=(14, 7))\n",
    "plt.plot(results.index, results[\"equity\"])\n",
    "plt.title(f\"{strategy_type} Strategy - Equity Curve\")\n",
    "plt.xlabel(\"Date\")\n",
    "plt.ylabel(\"Equity ($)\")\n",
    "plt.grid(True)\n",
    "plt.show()"
   ]
  },
  {
   "cell_type": "code",
   "execution_count": null,
   "metadata": {},
   "outputs": [],
   "source": [
    "# Plot drawdowns\n",
    "plt.figure(figsize=(14, 7))\n",
    "plt.plot(results.index, results[\"drawdown\"] * 100)\n",
    "plt.fill_between(results.index, results[\"drawdown\"] * 100, alpha=0.3)\n",
    "plt.title(\"Drawdown Percentage\")\n",
    "plt.xlabel(\"Date\")\n",
    "plt.ylabel(\"Drawdown (%)\")\n",
    "plt.grid(True)\n",
    "plt.show()"
   ]
  },
  {
   "cell_type": "code",
   "execution_count": null,
   "metadata": {},
   "outputs": [],
   "source": [
    "# Plot monthly returns\n",
    "if \"monthly_return\" in results.columns:\n",
    "    monthly_returns = results[\"monthly_return\"].dropna()\n",
    "else:\n",
    "    # Calculate monthly returns if not provided in results\n",
    "    monthly_returns = results[\"equity\"].resample(\"M\").last().pct_change().dropna()\n",
    "\n",
    "plt.figure(figsize=(14, 7))\n",
    "monthly_returns.plot(kind=\"bar\")\n",
    "plt.title(\"Monthly Returns\")\n",
    "plt.xlabel(\"Month\")\n",
    "plt.ylabel(\"Return (%)\")\n",
    "plt.grid(True, axis=\"y\")\n",
    "plt.show()"
   ]
  },
  {
   "cell_type": "markdown",
   "metadata": {},
   "source": [
    "## 6. Analyze Trade Statistics"
   ]
  },
  {
   "cell_type": "code",
   "execution_count": null,
   "metadata": {},
   "outputs": [],
   "source": [
    "# Get trade list\n",
    "trades = backtester.get_trades()\n",
    "\n",
    "if len(trades) > 0:\n",
    "    # Display trade summary\n",
    "    print(f\"Total Trades: {len(trades)}\")\n",
    "    print(f\"Winning Trades: {sum(1 for t in trades if t['pnl'] > 0)}\")\n",
    "    print(f\"Losing Trades: {sum(1 for t in trades if t['pnl'] <= 0)}\")\n",
    "\n",
    "    # Convert trades to DataFrame for analysis\n",
    "    trades_df = pd.DataFrame(trades)\n",
    "\n",
    "    # Display first few trades\n",
    "    trades_df.head()\n",
    "else:\n",
    "    print(\"No trades were executed during the backtest.\")"
   ]
  },
  {
   "cell_type": "code",
   "execution_count": null,
   "metadata": {},
   "outputs": [],
   "source": [
    "if len(trades) > 0:\n",
    "    # Plot PnL distribution\n",
    "    plt.figure(figsize=(12, 6))\n",
    "    plt.hist(trades_df[\"pnl\"], bins=30, alpha=0.7)\n",
    "    plt.axvline(x=0, color=\"r\", linestyle=\"--\")\n",
    "    plt.title(\"PnL Distribution\")\n",
    "    plt.xlabel(\"Profit/Loss\")\n",
    "    plt.ylabel(\"Frequency\")\n",
    "    plt.grid(True)\n",
    "    plt.show()\n",
    "\n",
    "    # Plot trade holding periods\n",
    "    plt.figure(figsize=(12, 6))\n",
    "    trades_df[\"holding_period\"] = (\n",
    "        pd.to_datetime(trades_df[\"exit_time\"]) - pd.to_datetime(trades_df[\"entry_time\"])\n",
    "    ).dt.total_seconds() / 3600  # in hours\n",
    "    plt.hist(trades_df[\"holding_period\"], bins=30, alpha=0.7)\n",
    "    plt.title(\"Trade Holding Periods\")\n",
    "    plt.xlabel(\"Holding Period (hours)\")\n",
    "    plt.ylabel(\"Frequency\")\n",
    "    plt.grid(True)\n",
    "    plt.show()"
   ]
  },
  {
   "cell_type": "markdown",
   "metadata": {},
   "source": [
    "## 7. Walk-Forward Analysis"
   ]
  },
  {
   "cell_type": "code",
   "execution_count": null,
   "metadata": {},
   "outputs": [],
   "source": [
    "# Initialize walk-forward analysis\n",
    "wfa = WalkForwardAnalysis(\n",
    "    strategy=strategy,\n",
    "    data=df,\n",
    "    initial_capital=config[\"initial_capital\"],\n",
    "    train_size=int(config[\"walk_forward\"][\"train_size\"]),  # days/candles in training window\n",
    "    test_size=int(config[\"walk_forward\"][\"test_size\"]),  # days/candles in testing window\n",
    "    step_size=int(config[\"walk_forward\"][\"step_size\"]),  # days/candles to step forward\n",
    ")\n",
    "\n",
    "# Run walk-forward analysis\n",
    "wfa_results = wfa.run()\n",
    "\n",
    "# Display walk-forward windows\n",
    "print(f\"Completed {len(wfa_results['windows'])} walk-forward windows\")\n",
    "for i, window in enumerate(wfa_results[\"windows\"]):\n",
    "    print(f\"Window {i + 1}: {window['train_start']} to {window['test_end']} - Return: {window['return']:.2f}%\")"
   ]
  },
  {
   "cell_type": "code",
   "execution_count": null,
   "metadata": {},
   "outputs": [],
   "source": [
    "# Plot walk-forward equity curves\n",
    "plt.figure(figsize=(14, 10))\n",
    "\n",
    "# Plot combined equity curve\n",
    "plt.subplot(2, 1, 1)\n",
    "plt.plot(wfa_results[\"combined_equity\"].index, wfa_results[\"combined_equity\"])\n",
    "plt.title(\"Walk-Forward Analysis - Combined Equity Curve\")\n",
    "plt.xlabel(\"Date\")\n",
    "plt.ylabel(\"Equity ($)\")\n",
    "plt.grid(True)\n",
    "\n",
    "# Plot individual window returns\n",
    "plt.subplot(2, 1, 2)\n",
    "window_returns = [window[\"return\"] for window in wfa_results[\"windows\"]]\n",
    "window_labels = [f\"W{i + 1}\" for i in range(len(window_returns))]\n",
    "plt.bar(window_labels, window_returns)\n",
    "plt.axhline(y=0, color=\"r\", linestyle=\"--\")\n",
    "plt.title(\"Returns by Walk-Forward Window\")\n",
    "plt.xlabel(\"Window\")\n",
    "plt.ylabel(\"Return (%)\")\n",
    "plt.grid(True, axis=\"y\")\n",
    "\n",
    "plt.tight_layout()\n",
    "plt.show()"
   ]
  },
  {
   "cell_type": "markdown",
   "metadata": {},
   "source": [
    "## 8. Monte Carlo Simulation"
   ]
  },
  {
   "cell_type": "code",
   "execution_count": null,
   "metadata": {},
   "outputs": [],
   "source": [
    "# Initialize Monte Carlo simulation\n",
    "if len(trades) > 0:\n",
    "    mc = MonteCarloSimulation(\n",
    "        trades=trades,\n",
    "        initial_capital=config[\"initial_capital\"],\n",
    "        num_simulations=config[\"monte_carlo\"][\"num_simulations\"],\n",
    "        confidence_level=config[\"monte_carlo\"][\"confidence_level\"],\n",
    "    )\n",
    "\n",
    "    # Run simulation\n",
    "    mc_results = mc.run()\n",
    "\n",
    "    # Display Monte Carlo simulation results\n",
    "    print(\"Monte Carlo Simulation Results:\")\n",
    "    print(f\"Median Terminal Equity: ${mc_results['median_terminal_equity']:.2f}\")\n",
    "    print(\n",
    "        f\"Confidence Interval: ${mc_results['confidence_interval'][0]:.2f} to ${mc_results['confidence_interval'][1]:.2f}\"\n",
    "    )\n",
    "    print(f\"Expected Drawdown: {mc_results['expected_drawdown']:.2f}%\")\n",
    "    print(f\"Risk of Ruin: {mc_results['risk_of_ruin']:.4f}\")\n",
    "else:\n",
    "    print(\"Cannot run Monte Carlo simulation - no trades available.\")"
   ]
  },
  {
   "cell_type": "code",
   "execution_count": null,
   "metadata": {},
   "outputs": [],
   "source": [
    "if len(trades) > 0:\n",
    "    # Plot Monte Carlo equity curves\n",
    "    plt.figure(figsize=(14, 7))\n",
    "\n",
    "    # Plot all simulations\n",
    "    for sim in mc_results[\"equity_curves\"][:100]:  # Plot first 100 simulations for clarity\n",
    "        plt.plot(sim, alpha=0.1, color=\"blue\")\n",
    "\n",
    "    # Plot median curve\n",
    "    plt.plot(mc_results[\"median_curve\"], linewidth=2, color=\"black\", label=\"Median\")\n",
    "\n",
    "    # Plot confidence interval\n",
    "    plt.plot(\n",
    "        mc_results[\"lower_bound\"],\n",
    "        linewidth=2,\n",
    "        color=\"red\",\n",
    "        label=f\"{config['monte_carlo']['confidence_level'] * 100}% Lower Bound\",\n",
    "    )\n",
    "    plt.plot(\n",
    "        mc_results[\"upper_bound\"],\n",
    "        linewidth=2,\n",
    "        color=\"green\",\n",
    "        label=f\"{config['monte_carlo']['confidence_level'] * 100}% Upper Bound\",\n",
    "    )\n",
    "\n",
    "    plt.title(\"Monte Carlo Simulation - Equity Curves\")\n",
    "    plt.xlabel(\"Trade Number\")\n",
    "    plt.ylabel(\"Equity ($)\")\n",
    "    plt.legend()\n",
    "    plt.grid(True)\n",
    "    plt.show()\n",
    "\n",
    "    # Plot terminal equity distribution\n",
    "    plt.figure(figsize=(14, 7))\n",
    "    plt.hist(mc_results[\"terminal_equities\"], bins=50, alpha=0.7)\n",
    "    plt.axvline(x=mc_results[\"median_terminal_equity\"], color=\"black\", linestyle=\"-\", linewidth=2, label=\"Median\")\n",
    "    plt.axvline(\n",
    "        x=mc_results[\"confidence_interval\"][0],\n",
    "        color=\"red\",\n",
    "        linestyle=\"--\",\n",
    "        linewidth=2,\n",
    "        label=f\"{config['monte_carlo']['confidence_level'] * 100}% Lower Bound\",\n",
    "    )\n",
    "    plt.axvline(\n",
    "        x=mc_results[\"confidence_interval\"][1],\n",
    "        color=\"green\",\n",
    "        linestyle=\"--\",\n",
    "        linewidth=2,\n",
    "        label=f\"{config['monte_carlo']['confidence_level'] * 100}% Upper Bound\",\n",
    "    )\n",
    "    plt.title(\"Terminal Equity Distribution\")\n",
    "    plt.xlabel(\"Terminal Equity ($)\")\n",
    "    plt.ylabel(\"Frequency\")\n",
    "    plt.legend()\n",
    "    plt.grid(True)\n",
    "    plt.show()"
   ]
  },
  {
   "cell_type": "markdown",
   "metadata": {},
   "source": [
    "## 9. Strategy Optimization"
   ]
  },
  {
   "cell_type": "code",
   "execution_count": null,
   "metadata": {},
   "outputs": [],
   "source": [
    "def optimize_strategy_parameter(param_name, param_values, config):\n",
    "    \"\"\"Optimize a single strategy parameter\"\"\"\n",
    "    results = []\n",
    "\n",
    "    for value in param_values:\n",
    "        # Create a copy of the config with modified parameter\n",
    "        test_config = config.copy()\n",
    "\n",
    "        # Update the parameter in the config\n",
    "        if \".\" in param_name:  # Handle nested parameters\n",
    "            parts = param_name.split(\".\")\n",
    "            if len(parts) == 2:  # Only one level of nesting\n",
    "                test_config[parts[0]][parts[1]] = value\n",
    "        else:\n",
    "            test_config[param_name] = value\n",
    "\n",
    "        # Initialize strategy with new config\n",
    "        test_strategy = create_strategy(\n",
    "            strategy_type=strategy_type,\n",
    "            config=test_config,\n",
    "            model_path=f\"{models_dir}{strategy_type}_model.pth\",\n",
    "            device=device,\n",
    "        )\n",
    "\n",
    "        # Initialize backtester\n",
    "        test_backtester = Backtester(\n",
    "            strategy=test_strategy,\n",
    "            data=df,\n",
    "            initial_capital=test_config[\"initial_capital\"],\n",
    "            position_size=test_config[\"position_size\"],\n",
    "            commission=test_config[\"commission\"],\n",
    "            slippage=test_config[\"slippage\"],\n",
    "        )\n",
    "\n",
    "        # Run backtest\n",
    "        test_results = test_backtester.run()\n",
    "\n",
    "        # Calculate metrics\n",
    "        test_metrics = calculate_metrics(test_results)\n",
    "\n",
    "        # Record results\n",
    "        results.append(\n",
    "            {\n",
    "                \"parameter\": param_name,\n",
    "                \"value\": value,\n",
    "                \"total_return\": test_metrics[\"total_return\"],\n",
    "                \"sharpe_ratio\": test_metrics[\"sharpe_ratio\"],\n",
    "                \"max_drawdown\": test_metrics[\"max_drawdown\"],\n",
    "                \"win_rate\": test_metrics[\"win_rate\"],\n",
    "                \"profit_factor\": test_metrics[\"profit_factor\"],\n",
    "            }\n",
    "        )\n",
    "\n",
    "    return pd.DataFrame(results)"
   ]
  },
  {
   "cell_type": "code",
   "execution_count": null,
   "metadata": {},
   "outputs": [],
   "source": [
    "# Example parameter to optimize\n",
    "param_name = \"signal_threshold\"  # This would be a parameter in your strategy\n",
    "param_values = [0.0001, 0.0005, 0.001, 0.002, 0.005]\n",
    "\n",
    "# Run optimization\n",
    "# optimization_results = optimize_strategy_parameter(param_name, param_values, config)\n",
    "\n",
    "# Display optimization results\n",
    "# print(\"Optimization Results:\")\n",
    "# print(optimization_results)\n",
    "\n",
    "# Plot optimization results\n",
    "# plt.figure(figsize=(14, 7))\n",
    "# plt.plot(optimization_results['value'], optimization_results['total_return'], marker='o')\n",
    "# plt.title(f'Parameter Optimization - {param_name}')\n",
    "# plt.xlabel(f'{param_name} Value')\n",
    "# plt.ylabel('Total Return (%)')\n",
    "# plt.grid(True)\n",
    "# plt.show()"
   ]
  },
  {
   "cell_type": "markdown",
   "metadata": {},
   "source": [
    "## 10. Position Sizing Optimization"
   ]
  },
  {
   "cell_type": "code",
   "execution_count": null,
   "metadata": {},
   "outputs": [],
   "source": [
    "# Optimize position size\n",
    "position_sizes = [0.05, 0.1, 0.2, 0.3, 0.5, 0.75, 1.0]  # Percentage of capital\n",
    "\n",
    "# Run optimization\n",
    "# pos_size_results = optimize_strategy_parameter('position_size', position_sizes, config)\n",
    "\n",
    "# Plot position sizing results\n",
    "# plt.figure(figsize=(14, 10))\n",
    "\n",
    "# Plot return vs position size\n",
    "# plt.subplot(2, 1, 1)\n",
    "# plt.plot(pos_size_results['value'], pos_size_results['total_return'], marker='o')\n",
    "# plt.title('Total Return vs Position Size')\n",
    "# plt.xlabel('Position Size (% of Capital)')\n",
    "# plt.ylabel('Total Return (%)')\n",
    "# plt.grid(True)\n",
    "\n",
    "# Plot drawdown vs position size\n",
    "# plt.subplot(2, 1, 2)\n",
    "# plt.plot(pos_size_results['value'], pos_size_results['max_drawdown'], marker='o')\n",
    "# plt.title('Max Drawdown vs Position Size')\n",
    "# plt.xlabel('Position Size (% of Capital)')\n",
    "# plt.ylabel('Max Drawdown (%)')\n",
    "# plt.grid(True)\n",
    "\n",
    "# plt.tight_layout()\n",
    "# plt.show()"
   ]
  },
  {
   "cell_type": "markdown",
   "metadata": {},
   "source": [
    "## 11. Save Optimized Configuration"
   ]
  },
  {
   "cell_type": "code",
   "execution_count": null,
   "metadata": {},
   "outputs": [],
   "source": [
    "# Save optimized configuration to file\n",
    "# from btb.utils.config import save_config\n",
    "\n",
    "# Uncomment to save the optimized configuration\n",
    "# optimized_config = config.copy()\n",
    "# optimized_config['position_size'] = 0.2  # Example optimized value\n",
    "# optimized_config['signal_threshold'] = 0.001  # Example optimized value\n",
    "\n",
    "# save_config(optimized_config, '../config/optimized_backtest_config.yaml')\n",
    "# print(\"Optimized configuration saved to '../config/optimized_backtest_config.yaml'\")"
   ]
  },
  {
   "cell_type": "markdown",
   "metadata": {},
   "source": [
    "## 12. Summary and Next Steps\n",
    "\n",
    "In this notebook, we:\n",
    "\n",
    "1. Loaded historical market data and trading configuration\n",
    "2. Initialized and backtested a trading strategy\n",
    "3. Analyzed backtest performance using various metrics and visualizations\n",
    "4. Examined individual trade statistics\n",
    "5. Performed walk-forward analysis to test strategy robustness\n",
    "6. Used Monte Carlo simulation to assess risk and expected outcomes\n",
    "7. Demonstrated how to optimize strategy parameters and position sizing\n",
    "\n",
    "Next steps:\n",
    "- Apply the optimized strategy in a live trading environment\n",
    "- Continuously monitor performance and compare to backtest results\n",
    "- Refine risk management and position sizing based on live performance\n",
    "- Explore additional markets and timeframes for the strategy"
   ]
  }
 ],
 "metadata": {
  "kernelspec": {
   "display_name": "Python 3",
   "language": "python",
   "name": "python3"
  },
  "language_info": {
   "codemirror_mode": {
    "name": "ipython",
    "version": 3
   },
   "file_extension": ".py",
   "mimetype": "text/x-python",
   "name": "python",
   "nbconvert_exporter": "python",
   "pygments_lexer": "ipython3",
   "version": "3.8.10"
  }
 },
 "nbformat": 4,
 "nbformat_minor": 4
}
