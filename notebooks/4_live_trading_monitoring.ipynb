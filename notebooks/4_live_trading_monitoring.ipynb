{
 "cells": [
  {
   "cell_type": "markdown",
   "metadata": {},
   "source": [
    "# Live Trading Monitoring and Evaluation\n",
    "\n",
    "This notebook demonstrates how to monitor and evaluate live trading performance using the BTB framework."
   ]
  },
  {
   "cell_type": "code",
   "execution_count": null,
   "metadata": {},
   "outputs": [],
   "source": [
    "import json\n",
    "import os\n",
    "import sys\n",
    "import time\n",
    "import warnings\n",
    "from datetime import datetime, timedelta\n",
    "\n",
    "import matplotlib.pyplot as plt\n",
    "import numpy as np\n",
    "import pandas as pd\n",
    "import seaborn as sns\n",
    "\n",
    "warnings.filterwarnings(\"ignore\")\n",
    "\n",
    "# Add project root to path for imports\n",
    "sys.path.append(os.path.abspath(\"..\"))\n",
    "\n",
    "from btb.backtest.metrics import calculate_metrics\n",
    "from btb.exchange.factory import create_exchange\n",
    "from btb.run.trader import Trader\n",
    "from btb.strategies.factory import create_strategy\n",
    "from btb.utils.config import load_config\n"
   ]
  },
  {
   "cell_type": "markdown",
   "metadata": {},
   "source": [
    "## 1. Load Configuration"
   ]
  },
  {
   "cell_type": "code",
   "execution_count": null,
   "metadata": {},
   "outputs": [],
   "source": [
    "# Load trading configuration\n",
    "config = load_config(\"../config/trading_config.yaml\")\n",
    "print(f\"Trading configuration loaded for {config['symbol']} with {config['timeframe']} timeframe\")"
   ]
  },
  {
   "cell_type": "markdown",
   "metadata": {},
   "source": [
    "## 2. Connect to Exchange"
   ]
  },
  {
   "cell_type": "code",
   "execution_count": null,
   "metadata": {},
   "outputs": [],
   "source": [
    "# Initialize exchange from factory\n",
    "exchange = create_exchange(\n",
    "    exchange_type=config[\"exchange\"],\n",
    "    api_key=config[\"api_key\"],  # For notebook testing, use test API keys\n",
    "    api_secret=config[\"api_secret\"],\n",
    "    testnet=True,  # Use testnet for safe testing\n",
    ")\n",
    "\n",
    "# Test connection\n",
    "account_info = exchange.get_account_info()\n",
    "print(f\"Connected to {config['exchange']} testnet\")\n",
    "print(f\"Account Balance: {account_info['balance']} {account_info['currency']}\")"
   ]
  },
  {
   "cell_type": "markdown",
   "metadata": {},
   "source": [
    "## 3. Load Trader Instance for Monitoring"
   ]
  },
  {
   "cell_type": "code",
   "execution_count": null,
   "metadata": {},
   "outputs": [],
   "source": [
    "# Initialize strategy\n",
    "strategy = create_strategy(\n",
    "    strategy_type=config[\"strategy\"], config=config, model_path=f\"../models/{config['strategy']}_model.pth\"\n",
    ")\n",
    "\n",
    "# Initialize trader\n",
    "trader = Trader(strategy=strategy, exchange=exchange, config=config)\n",
    "\n",
    "print(f\"Initialized {config['strategy']} strategy for live trading\")"
   ]
  },
  {
   "cell_type": "markdown",
   "metadata": {},
   "source": [
    "## 4. Monitor Trading Positions"
   ]
  },
  {
   "cell_type": "code",
   "execution_count": null,
   "metadata": {},
   "outputs": [],
   "source": [
    "# Get current positions\n",
    "positions = exchange.get_positions()\n",
    "\n",
    "if positions:\n",
    "    # Display positions\n",
    "    positions_df = pd.DataFrame(positions)\n",
    "    positions_df"
   ]
  },
  {
   "cell_type": "code",
   "execution_count": null,
   "metadata": {},
   "outputs": [],
   "source": [
    "# Get recent market data\n",
    "recent_data = exchange.get_historical_data(symbol=config[\"symbol\"], timeframe=config[\"timeframe\"], limit=100)\n",
    "\n",
    "# Plot recent price action\n",
    "plt.figure(figsize=(14, 7))\n",
    "plt.plot(recent_data.index, recent_data[\"close\"])\n",
    "plt.title(f\"{config['symbol']} Recent Price Action\")\n",
    "plt.xlabel(\"Time\")\n",
    "plt.ylabel(\"Price\")\n",
    "plt.grid(True)\n",
    "plt.show()"
   ]
  },
  {
   "cell_type": "markdown",
   "metadata": {},
   "source": [
    "## 5. Strategy Signal Analysis"
   ]
  },
  {
   "cell_type": "code",
   "execution_count": null,
   "metadata": {},
   "outputs": [],
   "source": [
    "# Generate signals on recent data\n",
    "signals = strategy.generate_signals(recent_data)\n",
    "\n",
    "# Plot price with signals\n",
    "plt.figure(figsize=(14, 7))\n",
    "plt.plot(recent_data.index, recent_data[\"close\"], label=\"Price\")\n",
    "\n",
    "# Plot buy signals\n",
    "buy_signals = signals[signals > 0]\n",
    "if not buy_signals.empty:\n",
    "    plt.scatter(\n",
    "        buy_signals.index,\n",
    "        recent_data.loc[buy_signals.index, \"close\"],\n",
    "        marker=\"^\",\n",
    "        color=\"green\",\n",
    "        s=100,\n",
    "        label=\"Buy Signal\",\n",
    "    )\n",
    "\n",
    "# Plot sell signals\n",
    "sell_signals = signals[signals < 0]\n",
    "if not sell_signals.empty:\n",
    "    plt.scatter(\n",
    "        sell_signals.index,\n",
    "        recent_data.loc[sell_signals.index, \"close\"],\n",
    "        marker=\"v\",\n",
    "        color=\"red\",\n",
    "        s=100,\n",
    "        label=\"Sell Signal\",\n",
    "    )\n",
    "\n",
    "plt.title(f\"{config['strategy']} Strategy Signals\")\n",
    "plt.xlabel(\"Time\")\n",
    "plt.ylabel(\"Price\")\n",
    "plt.legend()\n",
    "plt.grid(True)\n",
    "plt.show()"
   ]
  },
  {
   "cell_type": "markdown",
   "metadata": {},
   "source": [
    "## 6. Performance Tracking"
   ]
  },
  {
   "cell_type": "code",
   "execution_count": null,
   "metadata": {},
   "outputs": [],
   "source": [
    "# Load trade history from exchange\n",
    "trade_history = exchange.get_trade_history(\n",
    "    symbol=config[\"symbol\"],\n",
    "    start_time=(datetime.now() - timedelta(days=30)).strftime(\"%Y-%m-%d\"),\n",
    "    end_time=datetime.now().strftime(\"%Y-%m-%d\"),\n",
    ")\n",
    "\n",
    "if trade_history:\n",
    "    # Convert to DataFrame\n",
    "    # Convert to DataFrame and ensure 'profit' column exists (assuming 'pnl' is profit)\n",
    "    trades_df = pd.DataFrame(trade_history)\n",
    "    if \"pnl\" in trades_df.columns and \"profit\" not in trades_df.columns:\n",
    "        trades_df[\"profit\"] = trades_df[\"pnl\"]\n",
    "\n",
    "    # Ensure timestamp is datetime for sorting\n",
    "    trades_df[\"timestamp\"] = pd.to_datetime(trades_df[\"timestamp\"])\n",
    "    trades_df = trades_df.sort_values(\"timestamp\")\n",
    "\n",
    "    # Construct equity curve (assuming daily aggregation for simplicity)\n",
    "    # Note: This is an approximation. A true equity curve needs point-in-time portfolio values.\n",
    "    initial_capital = config.get(\"initial_capital\", 10000)  # Get initial capital from config or default\n",
    "    daily_pnl = trades_df.set_index(\"timestamp\")[\"profit\"].resample(\"D\").sum()\n",
    "    equity_curve_values = [initial_capital] + (initial_capital + daily_pnl.cumsum()).tolist()\n",
    "\n",
    "    # Convert trades DataFrame back to list of dicts for calculate_metrics\n",
    "    trades_list = trades_df.to_dict(\"records\")\n",
    "\n",
    "    # Calculate metrics using the function from btb.backtest\n",
    "    live_metrics = calculate_metrics(equity_curve=equity_curve_values, trades=trades_list, config=config)\n",
    "\n",
    "    # Display calculated metrics\n",
    "    print(\"--- Live Performance Metrics ---\")\n",
    "    print(f\"Initial Capital: {live_metrics.get('initial_capital', 'N/A'):.2f}\")\n",
    "    print(f\"Final Capital: {live_metrics.get('final_capital', 'N/A'):.2f}\")\n",
    "    print(f\"Total Return: {live_metrics.get('total_return_pct', 'N/A'):.2f}%\")\n",
    "    print(f\"Total Trades: {live_metrics.get('total_trades', 'N/A')}\")\n",
    "    print(f\"Win Rate: {live_metrics.get('win_rate', 0) * 100:.2f}%\")\n",
    "    print(f\"Profit Factor: {live_metrics.get('profit_factor', 'N/A'):.2f}\")\n",
    "    print(f\"Max Drawdown: {live_metrics.get('max_drawdown_pct', 'N/A'):.2f}%\")\n",
    "    print(f\"Sharpe Ratio: {live_metrics.get('sharpe_ratio', 'N/A'):.2f}\")\n",
    "    print(f\"Sortino Ratio: {live_metrics.get('sortino_ratio', 'N/A'):.2f}\")\n",
    "    print(f\"Avg Profit (%): {live_metrics.get('avg_profit_pct', 0) * 100:.2f}%\")\n",
    "    print(f\"Avg Loss (%): {live_metrics.get('avg_loss_pct', 0) * 100:.2f}%\")\n",
    "\n",
    "    # Display recent trades DataFrame\n",
    "    print(\"\\n--- Recent Trades ---\")\n",
    "    print(trades_df.head())\n",
    "else:\n",
    "    print(\"No trade history available for the specified period.\")"
   ]
  },
  {
   "cell_type": "markdown",
   "metadata": {},
   "source": [
    "## 7. Risk Management Analysis\n",
    "\n",
    "The `calculate_metrics` function already computes key risk metrics like Max Drawdown. Additional risk analysis (e.g., VaR, position exposure over time) could be added here if needed, potentially requiring more detailed position or equity data than typically available in simple trade history."
   ]
  },
  {
   "cell_type": "markdown",
   "metadata": {},
   "source": [
    "## 8. Compare Live vs Backtest Performance"
   ]
  },
  {
   "cell_type": "code",
   "execution_count": null,
   "metadata": {},
   "outputs": [],
   "source": [
    "# Load backtest results (assuming previously saved)\n",
    "# backtest_results = pd.read_csv('../data/backtest_results.csv', index_col=0, parse_dates=True)\n",
    "\n",
    "# Uncomment below to compare live vs backtest performance (if data available)\n",
    "\n",
    "# if trade_history and 'backtest_results' in locals():\n",
    "#     # Prepare live trading data\n",
    "#     live_start_date = trades_df['timestamp'].min().date()\n",
    "#     live_end_date = trades_df['timestamp'].max().date()\n",
    "#\n",
    "#     # Filter backtest results to match live trading period\n",
    "#     backtest_filtered = backtest_results[\n",
    "#         (backtest_results.index.date >= live_start_date) &\n",
    "#         (backtest_results.index.date <= live_end_date)\n",
    "#     ]\n",
    "#\n",
    "#     # Convert live trades to equity curve\n",
    "#     live_daily = trades_df.groupby('date')['pnl'].sum()\n",
    "#     live_equity = config['initial_capital'] + live_daily.cumsum()\n",
    "#\n",
    "#     # Plot comparison\n",
    "#     plt.figure(figsize=(14, 7))\n",
    "#     plt.plot(backtest_filtered.index, backtest_filtered['equity'], label='Backtest')\n",
    "#     plt.plot(live_equity.index, live_equity.values, label='Live Trading')\n",
    "#     plt.title('Backtest vs Live Trading Performance')\n",
    "#     plt.xlabel('Date')\n",
    "#     plt.ylabel('Equity')\n",
    "#     plt.legend()\n",
    "#     plt.grid(True)\n",
    "#     plt.show()"
   ]
  },
  {
   "cell_type": "markdown",
   "metadata": {},
   "source": [
    "## 9. Market Condition Analysis"
   ]
  },
  {
   "cell_type": "code",
   "execution_count": null,
   "metadata": {},
   "outputs": [],
   "source": [
    "# Get volatility over time\n",
    "recent_data[\"daily_return\"] = recent_data[\"close\"].pct_change()\n",
    "recent_data[\"volatility\"] = recent_data[\"daily_return\"].rolling(window=14).std() * np.sqrt(365)\n",
    "\n",
    "# Plot volatility\n",
    "plt.figure(figsize=(14, 10))\n",
    "\n",
    "plt.subplot(2, 1, 1)\n",
    "plt.plot(recent_data.index, recent_data[\"close\"])\n",
    "plt.title(\"Price\")\n",
    "plt.grid(True)\n",
    "\n",
    "plt.subplot(2, 1, 2)\n",
    "plt.plot(recent_data.index, recent_data[\"volatility\"])\n",
    "plt.title(\"Annualized Volatility (14-day rolling)\")\n",
    "plt.grid(True)\n",
    "\n",
    "plt.tight_layout()\n",
    "plt.show()"
   ]
  },
  {
   "cell_type": "markdown",
   "metadata": {},
   "source": [
    "## 10. Real-Time Monitoring"
   ]
  },
  {
   "cell_type": "markdown",
   "metadata": {},
   "source": [
    "# 10. Real-Time Monitoring\n",
    "\n",
    "Monitoring a live `Trader` instance typically involves checking logs, database records, or a dedicated monitoring API/dashboard rather than running a loop within a notebook. The cells below demonstrate analyzing past performance based on trade history."
   ]
  },
  {
   "cell_type": "markdown",
   "metadata": {},
   "source": [
    "## 11. Strategy Adjustments"
   ]
  },
  {
   "cell_type": "code",
   "execution_count": null,
   "metadata": {},
   "outputs": [],
   "source": [
    "# Function to adjust strategy parameters based on market conditions\n",
    "def adjust_strategy_parameters(volatility_threshold=0.5):\n",
    "    \"\"\"Adjust strategy parameters based on market conditions\"\"\"\n",
    "    # Get recent data for analysis\n",
    "    recent_data = exchange.get_historical_data(symbol=config[\"symbol\"], timeframe=config[\"timeframe\"], limit=100)\n",
    "\n",
    "    # Calculate current volatility\n",
    "    recent_data[\"daily_return\"] = recent_data[\"close\"].pct_change()\n",
    "    current_volatility = recent_data[\"daily_return\"].std() * np.sqrt(365)\n",
    "\n",
    "    print(f\"Current annualized volatility: {current_volatility:.2f}\")\n",
    "\n",
    "    # Adjust parameters based on volatility\n",
    "    if current_volatility > volatility_threshold:\n",
    "        # High volatility - reduce position size, increase signal threshold\n",
    "        adjusted_config = config.copy()\n",
    "        adjusted_config[\"position_size\"] = config[\"position_size\"] * 0.7  # Reduce position size by 30%\n",
    "        adjusted_config[\"signal_threshold\"] = config[\"signal_threshold\"] * 1.5  # Increase threshold by 50%\n",
    "\n",
    "        print(\"High volatility detected. Adjusting strategy parameters:\")\n",
    "        print(f\"Position size: {config['position_size']} -> {adjusted_config['position_size']}\")\n",
    "        print(f\"Signal threshold: {config['signal_threshold']} -> {adjusted_config['signal_threshold']}\")\n",
    "\n",
    "        return adjusted_config\n",
    "    else:\n",
    "        print(\"Normal volatility. Using default parameters.\")\n",
    "        return config"
   ]
  },
  {
   "cell_type": "code",
   "execution_count": null,
   "metadata": {},
   "outputs": [],
   "source": [
    "# Uncomment to test strategy parameter adjustment\n",
    "# adjusted_config = adjust_strategy_parameters(volatility_threshold=0.3)"
   ]
  },
  {
   "cell_type": "markdown",
   "metadata": {},
   "source": [
    "## 12. Summary and Next Steps\n",
    "\n",
    "In this notebook, we:\n",
    "\n",
    "1. Connected to a trading exchange (testnet) and initialized our trading strategy\n",
    "2. Monitored current positions and recent market data\n",
    "3. Analyzed strategy signals on recent data\n",
    "4. Tracked live trading performance and compared it with backtest expectations\n",
    "5. Analyzed risk metrics including drawdowns and volatility\n",
    "6. Implemented real-time monitoring functionality\n",
    "7. Demonstrated adaptive strategy parameter adjustment based on market conditions\n",
    "\n",
    "Next steps for live trading deployment:\n",
    "- Set up a dedicated server for running the trading bot 24/7\n",
    "- Implement proper logging and error handling for unattended operation\n",
    "- Configure notifications for important events (new trades, stops hit, etc.)\n",
    "- Develop a dashboard for real-time monitoring of multiple strategies\n",
    "- Implement automatic strategy adjustments based on performance metrics\n",
    "- Set up regular performance reports and analytics\n",
    "\n",
    "Remember to always start with small position sizes when going live, and gradually increase as the strategy proves consistent in live trading conditions."
   ]
  }
 ],
 "metadata": {
  "kernelspec": {
   "display_name": "Python 3",
   "language": "python",
   "name": "python3"
  },
  "language_info": {
   "codemirror_mode": {
    "name": "ipython",
    "version": 3
   },
   "file_extension": ".py",
   "mimetype": "text/x-python",
   "name": "python",
   "nbconvert_exporter": "python",
   "pygments_lexer": "ipython3",
   "version": "3.8.10"
  }
 },
 "nbformat": 4,
 "nbformat_minor": 4
}
