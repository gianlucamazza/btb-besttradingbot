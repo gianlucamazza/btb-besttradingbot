{
 "cells": [
  {
   "cell_type": "markdown",
   "metadata": {},
   "source": [
    "# BestTradingBot Demo Run\n",
    "\n",
    "This notebook demonstrates how to run a backtest and analyze the results using the BTB library directly from Python rather than the command-line interface."
   ]
  },
  {
   "cell_type": "code",
   "execution_count": null,
   "metadata": {},
   "outputs": [],
   "source": [
    "import os\n",
    "import sys\n",
    "\n",
    "import matplotlib.pyplot as plt\n",
    "import numpy as np\n",
    "import pandas as pd\n",
    "import seaborn as sns\n",
    "\n",
    "# Add project root to path for imports\n",
    "sys.path.append(os.path.abspath(\"..\"))\n",
    "\n",
    "from btb.backtest.engine import Backtester\n",
    "from btb.utils.config import load_config"
   ]
  },
  {
   "cell_type": "markdown",
   "metadata": {},
   "source": [
    "## 1. Load Configuration"
   ]
  },
  {
   "cell_type": "code",
   "execution_count": null,
   "metadata": {},
   "outputs": [],
   "source": [
    "# Load backtest configuration\n",
    "config = load_config(\"../config/backtest_config.yaml\")\n",
    "print(\"Configuration loaded:\")\n",
    "print(f\"Symbol(s): {config['backtest']['symbols']}\")\n",
    "print(f\"Timeframe(s): {config['backtest']['timeframes']}\")\n",
    "print(f\"Strategy: {config['backtest']['strategy']}\")\n",
    "print(f\"Date range: {config['backtest']['start_date']} to {config['backtest']['end_date']}\")"
   ]
  },
  {
   "cell_type": "markdown",
   "metadata": {},
   "source": [
    "## 2. Run Backtest"
   ]
  },
  {
   "cell_type": "code",
   "execution_count": null,
   "metadata": {},
   "outputs": [],
   "source": [
    "# Create strategy parameters\n",
    "strategy_params = {\n",
    "    \"short_period\": 10,\n",
    "    \"long_period\": 30,\n",
    "    \"stop_loss\": 0.02,  # 2%\n",
    "    \"take_profit\": 0.05,  # 5%\n",
    "    \"position_size\": 0.2,  # 20% of capital per trade\n",
    "}\n",
    "\n",
    "# Add strategy parameters to config\n",
    "config[\"strategy_params\"] = strategy_params\n",
    "\n",
    "# Initialize backtester\n",
    "backtester = Backtester(config)\n",
    "\n",
    "# Run backtest\n",
    "print(\"Running backtest...\")\n",
    "results = backtester.run()"
   ]
  },
  {
   "cell_type": "markdown",
   "metadata": {},
   "source": [
    "## 3. Analyze Results"
   ]
  },
  {
   "cell_type": "code",
   "execution_count": null,
   "metadata": {},
   "outputs": [],
   "source": [
    "# Display performance metrics from the results dictionary\n",
    "metrics = results.get(\"metrics\", {})\n",
    "print(\"\\nPerformance Metrics:\")\n",
    "print(f\"Initial Capital: ${metrics.get('initial_capital', 'N/A'):.2f}\")\n",
    "print(f\"Final Capital: ${metrics.get('final_capital', 'N/A'):.2f}\")\n",
    "print(f\"Total Return: {metrics.get('total_return_pct', 'N/A'):.2f}%\")\n",
    "print(f\"Sharpe Ratio: {metrics.get('sharpe_ratio', 'N/A'):.2f}\")\n",
    "print(f\"Max Drawdown: {metrics.get('max_drawdown_pct', 'N/A'):.2f}%\")\n",
    "print(f\"Win Rate: {metrics.get('win_rate', 0) * 100:.2f}%\")\n",
    "print(f\"Total Trades: {metrics.get('total_trades', 'N/A')}\")\n",
    "print(f\"Profit Factor: {metrics.get('profit_factor', 'N/A'):.2f}\")\n",
    "print(f\"Avg Profit (%): {metrics.get('avg_profit_pct', 0)*100:.2f}%\")\n",
    "print(f\"Avg Loss (%): {metrics.get('avg_loss_pct', 0)*100:.2f}%\")"
   ]
  },
  {
   "cell_type": "code",
   "execution_count": null,
   "metadata": {},
   "outputs": [],
   "source": [
    "# Plot equity curve\n",
    "plt.figure(figsize=(12, 6))\n",
    "plt.plot(results[\"equity_curve\"])\n",
    "plt.title(\"Equity Curve\")\n",
    "plt.xlabel(\"Trading Days\")\n",
    "plt.ylabel(\"Portfolio Value ($)\")\n",
    "plt.grid(True)\n",
    "plt.show()"
   ]
  },
  {
   "cell_type": "markdown",
   "metadata": {},
   "outputs": [],
   "source": [
    "# Drawdown is already calculated and printed in the metrics summary above.\n",
    "# The equity curve plot provides a visual representation of performance over time."
   ]
  },
  {
   "cell_type": "markdown",
   "metadata": {},
   "source": [
    "## 4. Analyze Trades"
   ]
  },
  {
   "cell_type": "code",
   "execution_count": null,
   "metadata": {},
   "outputs": [],
   "source": [
    "# Analyze trades\n",
    "trades = results[\"trades\"]\n",
    "if trades:\n",
    "    trades_df = pd.DataFrame(trades)\n",
    "\n",
    "    # Calculate trade durations\n",
    "    trades_df[\"entry_time\"] = pd.to_datetime(trades_df[\"entry_time\"])\n",
    "    trades_df[\"exit_time\"] = pd.to_datetime(trades_df[\"exit_time\"])\n",
    "    trades_df[\"duration\"] = trades_df[\"exit_time\"] - trades_df[\"entry_time\"]\n",
    "    trades_df[\"duration_hours\"] = trades_df[\"duration\"].dt.total_seconds() / 3600\n",
    "\n",
    "    # Display trade summary (using pre-calculated metrics where available)\n",
    "    print(\"\\nTrade Summary:\")\n",
    "    print(f\"Total Trades: {metrics.get('total_trades', len(trades_df))}\") # Use metric if available, else count df rows\n",
    "    print(f\"Winning Trades: {metrics.get('winning_trades', len(trades_df[trades_df['profit'] > 0]))}\")\n",
    "    print(f\"Losing Trades: {metrics.get('losing_trades', len(trades_df[trades_df['profit'] <= 0]))}\")\n",
    "    print(f\"Average Profit: ${metrics.get('avg_profit', trades_df['profit'][trades_df['profit'] > 0].mean()):.2f}\")\n",
    "    print(f\"Average Profit %: {metrics.get('avg_profit_pct', trades_df['profit_pct'][trades_df['profit_pct'] > 0].mean())*100:.2f}%\")\n",
    "    print(f\"Average Loss: ${metrics.get('avg_loss', trades_df['profit'][trades_df['profit'] <= 0].mean()):.2f}\")\n",
    "    print(f\"Average Loss %: {metrics.get('avg_loss_pct', trades_df['profit_pct'][trades_df['profit_pct'] <= 0].mean())*100:.2f}%\")\n",
    "    print(f\"Average Trade Duration: {trades_df['duration_hours'].mean():.2f} hours\") # Duration not in standard metrics\n",
    "\n",
    "    # Show first few trades\n",
    "    trades_df.head()"
   ]
  },
  {
   "cell_type": "code",
   "execution_count": null,
   "metadata": {},
   "outputs": [],
   "source": [
    "# Plot profit distribution\n",
    "if len(trades_df) > 0:\n",
    "    plt.figure(figsize=(12, 6))\n",
    "    sns.histplot(trades_df[\"profit_pct\"], bins=30, kde=True)\n",
    "    plt.axvline(x=0, color=\"red\", linestyle=\"--\")\n",
    "    plt.title(\"Trade Profit Distribution (%)\")\n",
    "    plt.xlabel(\"Profit (%)\")\n",
    "    plt.ylabel(\"Frequency\")\n",
    "    plt.grid(True)\n",
    "    plt.show()"
   ]
  },
  {
   "cell_type": "code",
   "execution_count": null,
   "metadata": {},
   "outputs": [],
   "source": [
    "# Plot trade results by exit reason\n",
    "if len(trades_df) > 0:\n",
    "    plt.figure(figsize=(12, 6))\n",
    "    sns.boxplot(x=\"exit_reason\", y=\"profit_pct\", data=trades_df)\n",
    "    plt.title(\"Trade Results by Exit Reason\")\n",
    "    plt.xlabel(\"Exit Reason\")\n",
    "    plt.ylabel(\"Profit (%)\")\n",
    "    plt.grid(True, axis=\"y\")\n",
    "    plt.show()"
   ]
  },
  {
   "cell_type": "markdown",
   "metadata": {},
   "source": [
    "## 5. Examine a Symbol's Performance"
   ]
  },
  {
   "cell_type": "code",
   "execution_count": null,
   "metadata": {},
   "outputs": [],
   "source": [
    "# Select a symbol for detailed examination\n",
    "symbol = config[\"backtest\"][\"symbols\"][0]\n",
    "timeframe = config[\"backtest\"][\"timeframes\"][0]\n",
    "symbol_key = f\"{symbol}_{timeframe}\"\n",
    "\n",
    "if symbol_key in results[\"symbol_results\"]:\n",
    "    symbol_result = results[\"symbol_results\"][symbol_key]\n",
    "\n",
    "    # Plot equity curve for this symbol\n",
    "    plt.figure(figsize=(12, 6))\n",
    "    plt.plot(symbol_result[\"equity_curve\"])\n",
    "    plt.title(f\"{symbol} {timeframe} Equity Curve\")\n",
    "    plt.xlabel(\"Trading Days\")\n",
    "    plt.ylabel(\"Portfolio Value ($)\")\n",
    "    plt.grid(True)\n",
    "    plt.show()\n",
    "\n",
    "    # Display symbol metrics\n",
    "    print(f\"\\n{symbol} {timeframe} Performance:\")\n",
    "    print(f\"Final Capital: ${symbol_result['final_capital']:.2f}\")\n",
    "    print(f\"Return: {symbol_result['return'] * 100:.2f}%\")\n",
    "\n",
    "    # Filter trades for this symbol\n",
    "    symbol_trades = [t for t in trades if t[\"symbol\"] == symbol]\n",
    "    print(f\"Number of Trades: {len(symbol_trades)}\")"
   ]
  },
  {
   "cell_type": "markdown",
   "metadata": {},
   "source": [
    "## 6. Strategy Parameter Optimization (Example)\n",
    "\n",
    "This section demonstrates a simple loop to test different parameter values. For more advanced optimization techniques like walk-forward analysis, consider using tools like `btb.backtest.walk_forward.WalkForwardAnalyzer` if applicable."
   ]
  },
  {
   "cell_type": "code",
   "execution_count": null,
   "metadata": {},
   "outputs": [],
   "source": [
    "def optimize_parameters(config, parameter, values):\n",
    "    \"\"\"Run backtest with different parameter values.\"\"\"\n",
    "    results = []\n",
    "\n",
    "    for value in values:\n",
    "        # Create a copy of the config\n",
    "        test_config = config.copy()\n",
    "\n",
    "        # Update the parameter\n",
    "        if \"strategy_params\" not in test_config:\n",
    "            test_config[\"strategy_params\"] = {}\n",
    "        test_config[\"strategy_params\"][parameter] = value\n",
    "\n",
    "        # Run backtest\n",
    "        backtester = Backtester(test_config)\n",
    "        backtest_results = backtester.run()\n",
    "\n",
    "        # Store results\n",
    "        results.append(\n",
    "            {\n",
    "                \"parameter\": parameter,\n",
    "                \"value\": value,\n",
    "                \"total_return\": backtest_results[\"metrics\"][\"total_return_pct\"],\n",
    "                \"sharpe_ratio\": backtest_results[\"metrics\"][\"sharpe_ratio\"],\n",
    "                \"max_drawdown\": backtest_results[\"metrics\"][\"max_drawdown_pct\"],\n",
    "                \"win_rate\": backtest_results[\"metrics\"][\"win_rate\"] * 100,\n",
    "            }\n",
    "        )\n",
    "\n",
    "    return pd.DataFrame(results)"
   ]
  },
  {
   "cell_type": "code",
   "execution_count": null,
   "metadata": {},
   "outputs": [],
   "source": [
    "# Example optimization of moving average periods (uncomment to run)\n",
    "# short_periods = [5, 10, 15, 20]\n",
    "# print(\"Optimizing short_period parameter...\")\n",
    "# optimization_results = optimize_parameters(config, 'short_period', short_periods)\n",
    "# optimization_results"
   ]
  },
  {
   "cell_type": "code",
   "execution_count": null,
   "metadata": {},
   "outputs": [],
   "source": [
    "# Plot optimization results (uncomment to run)\n",
    "# plt.figure(figsize=(12, 8))\n",
    "\n",
    "# plt.subplot(2, 2, 1)\n",
    "# plt.plot(optimization_results['value'], optimization_results['total_return'], marker='o')\n",
    "# plt.title('Total Return vs. Parameter Value')\n",
    "# plt.xlabel('Parameter Value')\n",
    "# plt.ylabel('Total Return (%)')\n",
    "# plt.grid(True)\n",
    "\n",
    "# plt.subplot(2, 2, 2)\n",
    "# plt.plot(optimization_results['value'], optimization_results['sharpe_ratio'], marker='o')\n",
    "# plt.title('Sharpe Ratio vs. Parameter Value')\n",
    "# plt.xlabel('Parameter Value')\n",
    "# plt.ylabel('Sharpe Ratio')\n",
    "# plt.grid(True)\n",
    "\n",
    "# plt.subplot(2, 2, 3)\n",
    "# plt.plot(optimization_results['value'], optimization_results['max_drawdown'], marker='o')\n",
    "# plt.title('Max Drawdown vs. Parameter Value')\n",
    "# plt.xlabel('Parameter Value')\n",
    "# plt.ylabel('Max Drawdown (%)')\n",
    "# plt.grid(True)\n",
    "\n",
    "# plt.subplot(2, 2, 4)\n",
    "# plt.plot(optimization_results['value'], optimization_results['win_rate'], marker='o')\n",
    "# plt.title('Win Rate vs. Parameter Value')\n",
    "# plt.xlabel('Parameter Value')\n",
    "# plt.ylabel('Win Rate (%)')\n",
    "# plt.grid(True)\n",
    "\n",
    "# plt.tight_layout()\n",
    "# plt.show()"
   ]
  },
  {
   "cell_type": "markdown",
   "metadata": {},
   "source": [
    "## 7. Save Results"
   ]
  },
  {
   "cell_type": "code",
   "execution_count": null,
   "metadata": {},
   "outputs": [],
   "source": [
    "# Save backtest results to file (uncomment to run)\n",
    "# result_path = '../results/backtest_results.json'\n",
    "# os.makedirs(os.path.dirname(result_path), exist_ok=True)\n",
    "# backtester.save_results(result_path)\n",
    "# print(f\"Results saved to {result_path}\")"
   ]
  },
  {
   "cell_type": "markdown",
   "metadata": {},
   "source": [
    "## 8. Conclusion\n",
    "\n",
    "In this notebook, we demonstrated how to:\n",
    "\n",
    "1. Configure and run a backtest with the BestTradingBot library\n",
    "2. Analyze backtesting results including equity curves, drawdowns, and trade statistics\n",
    "3. Optimize strategy parameters for better performance\n",
    "4. Save backtest results for future reference\n",
    "\n",
    "These techniques can be applied to develop, test, and optimize your own trading strategies using the BTB framework."
   ]
  }
 ],
 "metadata": {
  "kernelspec": {
   "display_name": "Python 3",
   "language": "python",
   "name": "python3"
  },
  "language_info": {
   "codemirror_mode": {
    "name": "ipython",
    "version": 3
   },
   "file_extension": ".py",
   "mimetype": "text/x-python",
   "name": "python",
   "nbconvert_exporter": "python",
   "pygments_lexer": "ipython3",
   "version": "3.8.10"
  }
 },
 "nbformat": 4,
 "nbformat_minor": 4
}
